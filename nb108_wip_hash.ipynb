{
 "cells": [
  {
   "cell_type": "code",
   "execution_count": 37,
   "metadata": {},
   "outputs": [],
   "source": [
    "import math\n",
    "import os\n",
    "import random\n",
    "import sys\n",
    "import struct\n",
    "import time\n",
    "import warnings\n",
    "\n",
    "import numpy as np \n",
    "import pandas as pd \n",
    "\n",
    "import matplotlib.pyplot as plt \n"
   ]
  },
  {
   "cell_type": "markdown",
   "metadata": {},
   "source": [
    "# nb 108: WIP hash function\n",
    "\n",
    "We want a hash mapping range $(10, 400, 352)$ to integers in the range $(0, K)$.\n",
    "\n",
    "First, convert a tuple $(i, j, k)$ to $x$ as $i*400*352 + j*352 + k$. This gives us integers in range $(10 * 400 * 352)$.\n",
    "\n",
    "Now, there are all sorts of hash functions. Let's use the equidistribution theorem, that is, we assume $n\\cdot \\alpha \\mod 1$ is equally distributed from $[0, 1)$ over integers $n$ for irrational $\\alpha$. We'll use the golden ratio here.\n",
    "\n",
    "With equidistribution, we map $(i, j, k)$ to $x$ to $[0, 1)$ to $[0, K)$ (integer) to $[0, 10 * 400 * 352)$ to $(i, j, k)$.\n",
    "\n",
    "> *Note that $K$ is unrelated to $k$. This is silly but I used $k$ and $K$ too much to change it now.\n",
    "\n",
    "So, this is:\n",
    "\n",
    "1. $(i, j, k) \\to x$ with `np.ravel_multi_index((i, j, k), (D, H, W))`.\n",
    "2. $x -> q$ with the equidistribution hash. Note $q \\in [0, K)$.\n",
    "3. Then, map $q -> x$ by keeping track of indices.\n",
    "4. $x \\to (i, j, k)$ with `np.unravel_index(x, (10, 400, 352))`."
   ]
  },
  {
   "cell_type": "code",
   "execution_count": 8,
   "metadata": {},
   "outputs": [
    {
     "data": {
      "text/plain": [
       "(0, 1, 2)"
      ]
     },
     "execution_count": 8,
     "metadata": {},
     "output_type": "execute_result"
    }
   ],
   "source": [
    "# map xx to i, j, k\n",
    "np.unravel_index(354, (10, 400, 352))"
   ]
  },
  {
   "cell_type": "code",
   "execution_count": 10,
   "metadata": {},
   "outputs": [
    {
     "data": {
      "text/plain": [
       "354"
      ]
     },
     "execution_count": 10,
     "metadata": {},
     "output_type": "execute_result"
    }
   ],
   "source": [
    "# map i, j, k to xx\n",
    "np.ravel_multi_index((0, 1, 2), (10, 400, 352))"
   ]
  },
  {
   "cell_type": "code",
   "execution_count": 11,
   "metadata": {},
   "outputs": [],
   "source": [
    "#PHI = (1 + 5 ** 0.5) / 2 = 1.618033988749895\n",
    "\n",
    "def equi_hash(n, a = 0.618033988749895, K = 131072):\n",
    "    \"\"\"Hash integer n to range [0, K) using Equidistribution Theorem Hash, using irrational a.\n",
    "\n",
    "    Is optimal for a = Phi = 1.618034.\n",
    "    Because of mod 1, we use 0.618034.\n",
    "\n",
    "    :param n: Input to hash\n",
    "    :type n: int\n",
    "    :param a: Irrational number, defaults to 0.618033988749895\n",
    "    :type a: float, optional\n",
    "    :param K: [description], defaults to 131072\n",
    "    :type K: int, optional\n",
    "\n",
    "    :return: Result of the hash: An int in range [0, K)\n",
    "    :rtype: int\n",
    "    \"\"\"\n",
    "    return math.floor(((n * a) % 1)*K)\n"
   ]
  },
  {
   "cell_type": "markdown",
   "metadata": {},
   "source": [
    "## Let's test the equidistribution of it, for ~5% K."
   ]
  },
  {
   "cell_type": "code",
   "execution_count": 42,
   "metadata": {},
   "outputs": [
    {
     "name": "stdout",
     "output_type": "stream",
     "text": [
      "Calculated 70400 hashes in 9.64 seconds.\n"
     ]
    }
   ],
   "source": [
    "# Let's see where each (i, j, k) maps to (q)\n",
    "index_map = np.zeros((10, 400, 352)) \n",
    "\n",
    "# KK is the range we want to hash to. Note the 0.05. \n",
    "KK = math.floor(10 * 400 * 352 * 0.05)\n",
    "\n",
    "# Let's count how often each hash value pops up.\n",
    "reverse_index_map = [[] for _ in range(KK)]\n",
    "total_qqs = np.zeros(KK)\n",
    "\n",
    "start = time.perf_counter()\n",
    "\n",
    "for ii in range(10):\n",
    "  for jj in range(400):\n",
    "    for kk in range(352):\n",
    "      xx = np.ravel_multi_index((ii, jj, kk), (10, 400, 352))\n",
    "      qq = equi_hash(xx, K = KK)\n",
    "      \n",
    "      # count for ijk\n",
    "      index_map[ii][jj][kk] = qq\n",
    "\n",
    "      # count for q\n",
    "      reverse_index_map[qq].append([ii, jj, kk])\n",
    "      total_qqs[qq] += 1\n",
    "\n",
    "end = time.perf_counter()\n",
    "\n",
    "print(f\"Calculated {KK} hashes in {end - start:.2f} seconds.\")\n"
   ]
  },
  {
   "cell_type": "markdown",
   "metadata": {},
   "source": [
    "### Before testing distribution, let's optimize the hash...\n",
    "\n",
    "10 Seconds is slow! What gives?"
   ]
  },
  {
   "cell_type": "code",
   "execution_count": 43,
   "metadata": {},
   "outputs": [
    {
     "name": "stdout",
     "output_type": "stream",
     "text": [
      "Calculated 70400 hashes in 0.18 seconds.\n"
     ]
    }
   ],
   "source": [
    "# Let's just test the hash time, ignoring mapping...\n",
    "start = time.perf_counter()\n",
    "\n",
    "for ii in range(70400):\n",
    "      qq = equi_hash(xx, K = KK)\n",
    "\n",
    "end = time.perf_counter()\n",
    "\n",
    "print(f\"Calculated {KK} hashes in {end - start:.2f} seconds.\")\n",
    "\n",
    "# ?!? Okay, the hash is very fast."
   ]
  },
  {
   "cell_type": "code",
   "execution_count": 44,
   "metadata": {},
   "outputs": [
    {
     "name": "stdout",
     "output_type": "stream",
     "text": [
      "Calculated 70400 hashes in 7.00 seconds.\n"
     ]
    }
   ],
   "source": [
    "start = time.perf_counter()\n",
    "\n",
    "for ii in range(10):\n",
    "  for jj in range(400):\n",
    "    for kk in range(352):\n",
    "      xx = np.ravel_multi_index((ii, jj, kk), (10, 400, 352))\n",
    "      qq = equi_hash(xx, K = KK)\n",
    "\n",
    "end = time.perf_counter()\n",
    "\n",
    "print(f\"Calculated {KK} hashes in {end - start:.2f} seconds.\")\n",
    "\n",
    "# Wow! `np.ravel_multi_index` is SLOW!"
   ]
  },
  {
   "cell_type": "code",
   "execution_count": 45,
   "metadata": {},
   "outputs": [],
   "source": [
    "def ravel_multi_index(\n",
    "    index = (0, 0, 0),\n",
    "    shape = (10, 400, 352)\n",
    "):\n",
    "    \"\"\"Flatten an index for a given range\n",
    "\n",
    "    :param index: Multi-axis index, defaults to (0, 0, 0)\n",
    "    :type index: tuple, optional\n",
    "    :param shape: Range of the index, defaults to (10, 400, 352)\n",
    "    :type shape: tuple, optional\n",
    "    :return: Flat index for the given shape\n",
    "    :rtype: int\n",
    "    \"\"\"\n",
    "    assert len(index) == len(shape)\n",
    "    flat_index = 0\n",
    "    for axis in range(len(index)):\n",
    "        flat_index = flat_index * shape[axis]\n",
    "        flat_index = flat_index + index[axis]\n",
    "    \n",
    "    return flat_index\n"
   ]
  },
  {
   "cell_type": "code",
   "execution_count": 46,
   "metadata": {},
   "outputs": [
    {
     "name": "stdout",
     "output_type": "stream",
     "text": [
      "Calculated 70400 hashes in 1.43 seconds.\n"
     ]
    }
   ],
   "source": [
    "start = time.perf_counter()\n",
    "\n",
    "for ii in range(10):\n",
    "  for jj in range(400):\n",
    "    for kk in range(352):\n",
    "      xx = ravel_multi_index((ii, jj, kk), (10, 400, 352))\n",
    "      qq = equi_hash(xx, K = KK)\n",
    "\n",
    "end = time.perf_counter()\n",
    "\n",
    "print(f\"Calculated {KK} hashes in {end - start:.2f} seconds.\")\n",
    "\n",
    "# Wow! `np.ravel_multi_index` is SLOW! We speed it up a lot by replacing it here."
   ]
  },
  {
   "cell_type": "markdown",
   "metadata": {},
   "source": [
    "### Okay, now let's actually analyze it."
   ]
  },
  {
   "cell_type": "code",
   "execution_count": 34,
   "metadata": {},
   "outputs": [],
   "source": [
    "# index_map[i][j][k] -> q\n",
    "# reverse_index_map[k] -> list of [i, j, k]\n",
    "# total_qqs[k] -> total ii"
   ]
  },
  {
   "cell_type": "code",
   "execution_count": 40,
   "metadata": {},
   "outputs": [
    {
     "name": "stdout",
     "output_type": "stream",
     "text": [
      "\n",
      "Min:\t19.0\n",
      "Max:\t22.0\n",
      "Std:\t0.5737882488736193\n",
      "Mean:\t20.0\n",
      "    \n"
     ]
    }
   ],
   "source": [
    "def describe(array, axis = None):\n",
    "    return f\"\"\"\n",
    "Min:\\t{array.min(axis = axis)}\n",
    "Max:\\t{array.max(axis = axis)}\n",
    "Std:\\t{array.std(axis = axis)}\n",
    "Mean:\\t{array.mean(axis = axis)}\n",
    "    \"\"\"\n",
    "\n",
    "print(\"Distribution of q indices\")\n",
    "print(describe(total_qqs))"
   ]
  },
  {
   "cell_type": "code",
   "execution_count": 54,
   "metadata": {},
   "outputs": [
    {
     "name": "stdout",
     "output_type": "stream",
     "text": [
      "There are 11184 indices mapping to 19 qq\n",
      "There are 48437 indices mapping to 20 qq\n",
      "There are 10374 indices mapping to 21 qq\n",
      "There are   405 indices mapping to 22 qq\n"
     ]
    }
   ],
   "source": [
    "for total in [19, 20, 21, 22]:\n",
    "    print(f\"There are {sum(total_qqs == total):>5} indices mapping to {total} qq\")"
   ]
  },
  {
   "cell_type": "markdown",
   "metadata": {},
   "source": [
    "This is great! Because we reduce to 5%, we expect exactly on average to have 20 ijk indices per q value.\n",
    "\n",
    "Furthermore, this distribution is incredibly tight."
   ]
  },
  {
   "cell_type": "code",
   "execution_count": null,
   "metadata": {},
   "outputs": [],
   "source": []
  }
 ],
 "metadata": {
  "interpreter": {
   "hash": "fe7d7353a01181868a2da6ae9a5c606713b3c10b5f881256e693089aa0723658"
  },
  "kernelspec": {
   "display_name": "Python 3.7.5 64-bit ('tf2p7': conda)",
   "language": "python",
   "name": "python3"
  },
  "language_info": {
   "codemirror_mode": {
    "name": "ipython",
    "version": 3
   },
   "file_extension": ".py",
   "mimetype": "text/x-python",
   "name": "python",
   "nbconvert_exporter": "python",
   "pygments_lexer": "ipython3",
   "version": "3.7.5"
  },
  "orig_nbformat": 4
 },
 "nbformat": 4,
 "nbformat_minor": 2
}
