{
 "cells": [
  {
   "cell_type": "markdown",
   "metadata": {},
   "source": [
    "# Implementing VoxelNet Feature Encoder\n",
    "\n",
    "Implementation details, I referenced the following:\n",
    "\n",
    "1. https://github.com/baudm/VoxelNet-Keras/blob/master/model.py (MIT license)\n",
    "2. https://github.com/steph1793/Voxelnet/blob/master/model.py (GPL license)\n",
    "3. https://github.com/qianguih/voxelnet (No license)\n",
    "4. The paper https://openaccess.thecvf.com/content_cvpr_2018/papers/Zhou_VoxelNet_End-to-End_Learning_CVPR_2018_paper.pdf\n",
    "\n",
    "I am focusing on the feature encoding layer here specifically!\n",
    "\n",
    "Also, we'll need to look at the NuScenes data descriptor (https://www.nuscenes.org/nuscenes) eventually. For now, let's assume some pointclouds.\n",
    "\n",
    "---\n",
    "\n"
   ]
  },
  {
   "cell_type": "markdown",
   "metadata": {},
   "source": [
    "# 1. Feature learning network\n",
    "\n",
    "The feature learning network performs the following steps:\n",
    "\n",
    "## Partitioning, grouping\n",
    "\n",
    "Given a pointcloud, quantize the space into equally sized voxels, with range $D, H, W$ along axes $Z, Y, X$, and each voxel having size $v_D, v_H, v_W$ resulting in a 3D grid of size.\n",
    "\n",
    "All points $p = (x, y, z)$ corresponding to a given $i, j, k$ in the grid are considered 'grouped'.\n",
    "\n",
    "**Partitioning spec for Car Detection**\n",
    "\n",
    "| Axis                           | $Z (D)$    | $Y (H)$     | $X (W)$    |\n",
    "| ------------------------------ | ---------- | ----------- | ---------- |\n",
    "| Range  $(D, H, W)$ \t\t\t | $[-3, 1]$  | $[-40, 40]$ | $[0, 70.4]$|\n",
    "| Voxel sizes $(v_D, v_H, v_W)$  | $0.4$      | $0.2$       | $0.2$      |\n",
    "| Grid size  $(D', H', W')$      | $10$       | $400$       | $352$      |\n",
    "\n",
    "\n",
    "**Partitioning spec for Pedestrian and Cyclist detection**\n",
    "\n",
    "| Axis                           | $Z (D)$    | $Y (H)$     | $X (W)$    |\n",
    "| ------------------------------ | ---------- | ----------- | ---------- |\n",
    "| Range  $(D, H, W)$ \t\t\t | $[-3, 1]$  | $[-20, 20]$ | $[0, 70.4]$|\n",
    "| Voxel sizes $(v_D, v_H, v_W)$  | $0.4$      | $0.2$       | $0.2$      |\n",
    "| Grid size  $(D', H', W')$      | $10$       | $200$       | $240$      |\n",
    "\n",
    "For range $[a, b]$ and size $v$, the transform here is `(x - a) // v`, discarding `x` outside of the range `[a, b]` of course.\n",
    "\n",
    "We can define this function, $$quantize(x, a, b v) = (x - a) // v$$"
   ]
  },
  {
   "cell_type": "code",
   "execution_count": 1,
   "metadata": {},
   "outputs": [],
   "source": [
    "def quantize(x, a = - 3, b = 1, v = 0.4):\n",
    "    '''Given a floating value x, quantize its value within\n",
    "    range [a, b] with spacing v.\n",
    "    \n",
    "    :param x: The value to quantize.\n",
    "    :type x: float\n",
    "    :param a: The left-bound of the range.\n",
    "    :type a: float\n",
    "    :param b: The right-bound of the range.\n",
    "    :type b: float\n",
    "    :param v: The size of each quantize\n",
    "    :type v: float\n",
    "    \n",
    "    :return: The quantized index of x\n",
    "    :rtype: int\n",
    "    \n",
    "    Examples:\n",
    "    >>> quantize(x = -3.0, a = - 3, b = 1, v = 0.4)\n",
    "    0\n",
    "    >>> quantize(x =  1.0, a = - 3, b = 1, v = 0.4)\n",
    "    9\n",
    "    >>> quantize(x =  0.3, a = - 3, b = 1, v = 0.4)\n",
    "    8\n",
    "    '''\n",
    "    return int((x - a) // v)"
   ]
  },
  {
   "cell_type": "markdown",
   "metadata": {},
   "source": [
    "\n",
    "## Sampling\n",
    "\n",
    "After this, for each cell that has more than $T$ points ($T = 35$ for vehicle and $T = 45$ for pedestrian), randomly sample $T$ points from that cell.\n",
    "\n",
    "Custom implementation: Rather than collect the points and *then* shuffle, we *shuffle* as we collect points. The idea is is to keep track of how many points we added to a cell, and if we've added more than `T` to that cell, randomly replace one element in that cell.\n",
    "\n",
    "Because we randomly shuffle the points before doing this, there's no risk of bias.\n",
    "\n",
    "1. Instantiate `G = (D', H', W', T, 4)` array of floats.\n",
    "2. Instantiate `N = (D', H', W')` array of ints.\n",
    "3. Randomly shuffle indices for incoming points `P`.\n",
    "4. For each point `p in P` to add to the grid,\n",
    "    1. Get indices `(i, j, k)` per the function `quantize` above.\n",
    "    2. Let `t = N[z, y, x]`. Iterate `N[z, y, x] += 1`.\n",
    "    3. If `t >= T`, choose `t = random_int(0, T)`.\n",
    "    4. Set `G[z, y, x, t, :] = (z, y, x, r)`.\n",
    "\n"
   ]
  },
  {
   "cell_type": "code",
   "execution_count": null,
   "metadata": {},
   "outputs": [],
   "source": []
  }
 ],
 "metadata": {
  "kernelspec": {
   "display_name": "Python 3",
   "language": "python",
   "name": "python3"
  },
  "language_info": {
   "codemirror_mode": {
    "name": "ipython",
    "version": 3
   },
   "file_extension": ".py",
   "mimetype": "text/x-python",
   "name": "python",
   "nbconvert_exporter": "python",
   "pygments_lexer": "ipython3",
   "version": "3.7.5"
  }
 },
 "nbformat": 4,
 "nbformat_minor": 4
}
