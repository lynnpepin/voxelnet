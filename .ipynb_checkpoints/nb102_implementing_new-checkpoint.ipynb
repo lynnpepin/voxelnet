{
 "cells": [
  {
   "cell_type": "markdown",
   "metadata": {},
   "source": [
    "# Implementing VoxelNet\n",
    "\n",
    "Implementation details, I referenced the following:\n",
    "\n",
    "1. https://github.com/baudm/VoxelNet-Keras/blob/master/model.py (MIT license)\n",
    "2. https://github.com/steph1793/Voxelnet/blob/master/model.py (GPL license)\n",
    "3. https://github.com/qianguih/voxelnet (No license)\n",
    "\n",
    "I made some mistakes in the previous notebook. Rather than delete (or make difficult-to-access by putting it behind Git), I am simply putting it here :)"
   ]
  },
  {
   "cell_type": "code",
   "execution_count": 1,
   "metadata": {},
   "outputs": [],
   "source": [
    "    import numpy as np\n",
    "    import pandas as pd\n",
    "\n",
    "    import tensorflow as tf\n",
    "    from tensorflow import keras\n",
    "    from tensorflow.keras import backend as K"
   ]
  },
  {
   "cell_type": "markdown",
   "metadata": {},
   "source": [
    "---\n",
    "\n",
    "# 1. Feature learning network\n",
    "\n",
    "TODO, this is the hardest part."
   ]
  },
  {
   "cell_type": "markdown",
   "metadata": {},
   "source": [
    "---\n",
    "\n",
    "# 2. Convolutional Middle Layers\n",
    "\n",
    "First, let's use the notation as above:\n",
    "\n",
    "| `ConvMD(c_in, c_out, k, s, p)` | Meaning |\n",
    "| - | - |\n",
    "| `M` | Dimension (i.e. 2, 3) |\n",
    "| `c_in`   | Input channels \n",
    "| `c_out`  | Output channels \n",
    "| `k`      | Kernel size, size `M`, where `k = (k, k, k,)` when sizes across dimensions are the same. \n",
    "| `s` | Stride\n",
    "| `p` | Padding\n",
    "\n",
    "Per section 2.1.2, each convolutional middle layer:\n",
    "\n",
    "1. Applies 3D convolution,\n",
    "2. Batchnorm,\n",
    "3. ReLU\n",
    "\n",
    "This is described better in section 3.\n",
    "\n",
    "Specifically, for both car and pedestrian detection, the middle layers are sequentially:\n",
    "\n",
    "1. Conv3D(128, 64, 3, (2,1,1), (1,1,1)),\n",
    "2. Conv3D(64, 64, 3, (1,1,1), (0,1,1)), \n",
    "3. Conv3D(64, 64, 3, (2,1,1), (1,1,1)),\n",
    "4. yielding a 4D tensor of size 64 × 2 × 400 × 352."
   ]
  },
  {
   "cell_type": "code",
   "execution_count": 2,
   "metadata": {},
   "outputs": [],
   "source": [
    "class ConvMiddleLayer(keras.layers.Layer):\n",
    "    '''\n",
    "    See section 2.1.2 \"Convolutional Middle Layers\" of the VoxelNet paper.\n",
    "    \n",
    "    For parameters kk, ss, and pp, these are vectors of size MM,\n",
    "    but can be instantiated as a scalar.\n",
    "    \n",
    "    (E.g. for MM = 3 and kk = 2, this code changes it to kk = (2, 2, 2)\n",
    "    \n",
    "    :param MM: Dimension of the convolution, default 3\n",
    "    :type MM: int\n",
    "    :param c_in: Number of input channels\n",
    "    :type c_in: int\n",
    "    :param c_out: Number of output channels\n",
    "    :type c_out: int\n",
    "    :param kk: Kernel size, vector of size MM\n",
    "    :type kk: tuple or int\n",
    "    :param ss: Stride size, vector of size MM\n",
    "    :type ss: tuple or int\n",
    "    :param pp: Padding size, vector of size MM\n",
    "    :type pp: tuple or int\n",
    "    :param name: Suffix of names to be given to layers\n",
    "    :type name: str\n",
    "    '''\n",
    "    \n",
    "    def __init__(\n",
    "        self,\n",
    "        MM = 3,\n",
    "        c_in = 64,\n",
    "        c_out = 64,\n",
    "        kk =  3,\n",
    "        ss = (2, 1, 1),\n",
    "        pp = (1, 1, 1),\n",
    "        name = \"ConvMiddleBlock\"\n",
    "    ):\n",
    "        \n",
    "        super(ConvMiddleLayer, self).__init__(name=name)\n",
    "\n",
    "        # Check all values first\n",
    "        # (todo: type hint, how to do iterables and union in 3.7?)\n",
    "        # (todo: consider using pattern matching, if you're willing to break for old python version)\n",
    "\n",
    "        if not isinstance(MM, int):\n",
    "            raise TypeError(\"MM must be int\")\n",
    "        if not isinstance(c_in, int):\n",
    "            raise TypeError(\"c_in must be int\")\n",
    "        if not isinstance(c_out, int):\n",
    "            raise TypeError(\"c_out must be int\")\n",
    "        \n",
    "        self.MM = MM\n",
    "        self.c_in = c_in\n",
    "        self.c_out = c_out\n",
    "\n",
    "        if type(kk) is int:\n",
    "            self.kk = [kk for _ in range(MM)]\n",
    "        elif not hasattr(kk, '__iter__'):\n",
    "            raise TypeError(\"kk must be int or iterable of ints\")\n",
    "        else:\n",
    "            if not len(kk) == MM:\n",
    "                raise ValueError(\"kk must be of length MM\")\n",
    "            for val in kk:\n",
    "                if not isinstance(val, int):\n",
    "                    raise TypeError(\"kk must be int or iterable of ints\")\n",
    "            self.kk = kk\n",
    "\n",
    "        if type(ss) is int:\n",
    "            self.ss = [ss for _ in range(MM)]\n",
    "        elif not hasattr(ss, '__iter__'):\n",
    "            raise TypeError(\"ss must be int or iterable of ints\")\n",
    "        else:\n",
    "            if not len(ss) == MM:\n",
    "                raise ValueError(\"ss must be of length MM\")\n",
    "            for val in ss:\n",
    "                if not isinstance(val, int):\n",
    "                    raise TypeError(\"ss must be int or iterable of ints\")\n",
    "            self.ss = ss\n",
    "\n",
    "        if type(pp) is int:\n",
    "            self.pp = [pp for _ in range(MM)]\n",
    "        elif not hasattr(pp, '__iter__'):\n",
    "            raise TypeError(\"pp must be int or iterable of ints\")\n",
    "        else:\n",
    "            if not len(pp) == MM:\n",
    "                raise ValueError(\"pp must be of length MM\")\n",
    "            for val in pp:\n",
    "                if not isinstance(val, int):\n",
    "                    raise TypeError(\"pp must be int or iterable of ints\")\n",
    "            self.pp = pp\n",
    "        \n",
    "        # TODO: define data format in padding and conv layers?\n",
    "        if MM == 3:\n",
    "            self.pad_layer  = keras.layers.ZeroPadding3D(\n",
    "                padding = self.pp,\n",
    "                name = f\"{self.name}_padding\"\n",
    "            )\n",
    "            self.conv_layer = keras.layers.Conv3D(\n",
    "                filters     = self.c_out,\n",
    "                kernel_size = self.kk,\n",
    "                strides     = self.ss,\n",
    "                padding     = \"valid\",  # TODO: Padding self.pp applies during call\n",
    "                name        = f\"{self.name}_conv\"\n",
    "            )\n",
    "        elif MM == 2:\n",
    "            self.pad_layer  = keras.layers.ZeroPadding2D(\n",
    "                padding = self.pp,\n",
    "                name = f\"{self.name}_padding\"\n",
    "            )\n",
    "            self.conv_layer = keras.layers.Conv2D(\n",
    "                filters     = self.c_out,\n",
    "                kernel_size = self.kk,\n",
    "                strides     = self.ss,\n",
    "                padding     = \"valid\",  # TODO: Padding self.pp applies during call\n",
    "                name        = f\"{self.name}_conv\"\n",
    "            )\n",
    "        elif MM == 1:\n",
    "            self.pad_layer  = keras.layers.ZeroPadding1D(\n",
    "                padding = self.pp,\n",
    "                name = f\"{self.name}_padding\"\n",
    "            )\n",
    "            self.conv_layer = keras.layers.Conv1D(\n",
    "                filters     = self.c_out,\n",
    "                kernel_size = self.kk,\n",
    "                strides     = self.ss,\n",
    "                padding     = \"valid\",  # TODO: Padding self.pp applies during call\n",
    "                name        = f\"{self.name}_conv\"\n",
    "            )\n",
    "        elif MM == 4:\n",
    "            raise NotImplementedError(\"4D convolutions not supported! Implement this in ConvMiddleLayer.\")\n",
    "        else:\n",
    "            raise ValueError(\"Dimension MM must be 1, 2, or 3..\")\n",
    "        \n",
    "        self.batchnorm_layer = keras.layers.BatchNormalization(\n",
    "            name = f\"{self.name}_batchnorm\"\n",
    "        )\n",
    "        \n",
    "        self.relu_layer = keras.layers.ReLU(\n",
    "            name = f\"{self.name}_relu\"\n",
    "        )\n",
    "        \n",
    "    def call(\n",
    "        self,\n",
    "        tf_input\n",
    "    ):\n",
    "        if not tf_input.shape[-1] == self.c_in:\n",
    "            print(f\"Warning, {self.name} expected input with {self.c_in} channels, got {tf_input.shape[-1]} instead.\")\n",
    "        \n",
    "        h1 = self.pad_layer(tf_input)\n",
    "        h2 = self.batchnorm_layer(h1)\n",
    "        h3 = self.relu_layer(h2)\n",
    "        \n",
    "        return h3"
   ]
  },
  {
   "cell_type": "code",
   "execution_count": 3,
   "metadata": {},
   "outputs": [
    {
     "name": "stdout",
     "output_type": "stream",
     "text": [
      "Warning, ConvMiddleBlock expected input with 64 channels, got 3 instead.\n"
     ]
    },
    {
     "data": {
      "text/plain": [
       "TensorShape([16, 30, 30, 30, 3])"
      ]
     },
     "execution_count": 3,
     "metadata": {},
     "output_type": "execute_result"
    }
   ],
   "source": [
    "# Let's play around\n",
    "inlayer = keras.Input(shape=(28, 28, 28, 3), batch_size=16)\n",
    "conv = ConvMiddleLayer()\n",
    "conv(inlayer).shape"
   ]
  },
  {
   "cell_type": "code",
   "execution_count": 4,
   "metadata": {},
   "outputs": [
    {
     "name": "stdout",
     "output_type": "stream",
     "text": [
      "Warning, ConvMiddleBlock expected input with 64 channels, got 3 instead.\n",
      "(16, 30, 30, 30, 3)\n"
     ]
    }
   ],
   "source": [
    "# Test input\n",
    "random_input = tf.convert_to_tensor(\n",
    "    np.random.random(conv.input_shape).astype(np.float32)\n",
    ")\n",
    "\n",
    "some_output = conv(random_input)\n",
    "\n",
    "print(some_output.shape)"
   ]
  },
  {
   "cell_type": "code",
   "execution_count": 5,
   "metadata": {},
   "outputs": [
    {
     "name": "stdout",
     "output_type": "stream",
     "text": [
      "Warning, ConvMiddleBlock expected input with 64 channels, got 3 instead.\n"
     ]
    },
    {
     "data": {
      "image/png": "[encoded data removed]",
      "text/plain": [
       "<IPython.core.display.Image object>"
      ]
     },
     "execution_count": 5,
     "metadata": {},
     "output_type": "execute_result"
    }
   ],
   "source": [
    "# Instantiate a model and plot it\n",
    "model = keras.Model(inputs = inlayer, outputs = conv(inlayer))\n",
    "keras.utils.plot_model(model, show_shapes=True, expand_nested=True, rankdir='LR')"
   ]
  },
  {
   "cell_type": "markdown",
   "metadata": {},
   "source": [
    "# 3. Region Proposal Network\n",
    "\n",
    "This work uses a modified version of the RPN introduced in [Faster R-CNN (Ren, He, Girshick, Sun, 2015)](https://proceedings.neurips.cc/paper/2015/file/14bfa6bb14875e45bba028a21ed38046-Paper.pdf). The RPN is defined in section 2.1.3.\n",
    "\n",
    "The paper this same convention for Conv layers:\n",
    "\n",
    "| `ConvMD(c_in, c_out, k, s, p)` | Meaning |\n",
    "| - | - |\n",
    "| `M` | Dimension (i.e. 2, 3) |\n",
    "| `c_in`   | Input channels \n",
    "| `c_out`  | Output channels \n",
    "| `k`      | Kernel size, size `M`, where `k = (k, k, k,)` when sizes across dimensions are the same. \n",
    "| `s` | Stride\n",
    "| `p` | Padding\n",
    "\n",
    "Here is a summary of section 2.1.3:\n",
    "\n",
    "1. The input to the RPN is the output from the conv middle layers.\n",
    "2. The network has three blocks of several sequential fully convolutional layers:\n",
    "    1. The first layer in the stack has stride of two, and the rest are stride 1.\n",
    "    2. Each convolution is followed by batchnorm and relu.\n",
    "3. The output of each block is upscaled (Deconv, aka ConvTranspose) and then concatenated.\n",
    "4. The final concatenated block is mapped to two separate layers, a probabiliy score map and a regression map, used for learning.\n",
    "\n",
    "\n",
    "Specifically, for car detection,\n",
    "\n",
    "- Output from conv layers is `(64, 2, 400, 352)`\n",
    "- Reshape to `(128, 400, 352)` (channel, height, width)\n",
    "- Anchors `l^a = 3.9, w^a = 1.6, h^a = 1.56`\n",
    "- Centered at `z^a_c = -1.0` with rotations 0 and 90 degrees\n",
    "- Anchor matching criterion:\n",
    "    - Negative if IoU < 0.45\n",
    "    - Neutral if 0.45 <= IoU <= 0.6\n",
    "    - Positive if IoU > 0.6\n",
    "- The region proposal network is defined in Figure 4\n",
    "\n",
    "And for pedestrians,\n",
    "\n",
    "- Anchors `l^a = 0.8, w^a = 0.6, h^a = 1.73`\n",
    "- Centered at `z^a_c = -0.6` with rotations 0 and 90 degrees\n",
    "- Anchor matching criterion:\n",
    "    - Negative if IoU < 0.35\n",
    "    - Neutral if 0.35 <= IoU <= 0.50\n",
    "    - Positive if IoU > 0.50\n",
    "- The RPN is mostly identical to the one in Figure 4.\n",
    "    - One change: Stride in the first 2D Conv is 2, not 1\n",
    "\n",
    "---"
   ]
  },
  {
   "cell_type": "markdown",
   "metadata": {},
   "source": [
    "# 3.1. Conv Block\n",
    "\n",
    "The RPN is defined as a layer of convolution blocks. The outputs of these blocks are the transposed and concatenated (per Figure 4 in the paper). Our RPNConvBlock class defines these blocks."
   ]
  },
  {
   "cell_type": "code",
   "execution_count": 6,
   "metadata": {},
   "outputs": [],
   "source": [
    "class RPNConvBlock(keras.layers.Layer):\n",
    "    '''\n",
    "    See section 2.1.3 \"Convolutional Middle Layers\" of the VoxelNet paper.\n",
    "    \n",
    "    This defines a 2D convolution block used in the RPN.\n",
    "    \n",
    "    :param filters: Number of filters in each convolution block\n",
    "    :type filters: int\n",
    "    :param qq: Number of stacks of convolutions\n",
    "    :type qq: int\n",
    "    :param kernel_size:\n",
    "    :type kernel_size:\n",
    "    :param get_strides: A function mapping integers [0, ..., q) to integers.\n",
    "        (By default, follows values for car detection. Use `lambda ii: 1` to return constant 1.)\n",
    "    :type strides: function\n",
    "    :param padding: \n",
    "    :type padding: \n",
    "    :param name: Suffix of names to be given to layers\n",
    "    :type name: str\n",
    "    '''\n",
    "    \n",
    "    def __init__(\n",
    "        self,\n",
    "        qq      = 6,\n",
    "        filters = 128,\n",
    "        kernel_size = 3,\n",
    "        get_strides = lambda ii: 2 if ii == 0 else 1,\n",
    "        padding = 1,\n",
    "        name = \"RPN_Conv_Block\",\n",
    "    ):\n",
    "        \n",
    "        super(RPNConvBlock, self).__init__(name=name)\n",
    "        \n",
    "        if qq <= 0:\n",
    "            raise ValueError(f\"Expected positive number of layers, but RPN conv block \\\"{name}\\\" got qq = {qq}\")\n",
    "        \n",
    "        self.qq = qq\n",
    "        self.filters = filters\n",
    "        self.kernel_size = kernel_size\n",
    "        self.padding = padding\n",
    "        self.get_strides = get_strides\n",
    "        self.block_layers = []\n",
    "        \n",
    "        for ii in range(self.qq):\n",
    "            strides = self.get_strides(ii)\n",
    "            \n",
    "            new_layers = [\n",
    "                keras.layers.ZeroPadding2D(\n",
    "                    padding = self.padding,\n",
    "                    name = f\"{self.name}_zeropadding_{ii}\"\n",
    "                ),\n",
    "                keras.layers.Conv2D(\n",
    "                    filters = self.filters,\n",
    "                    kernel_size = self.kernel_size,\n",
    "                    strides = strides,\n",
    "                    padding = 'valid',\n",
    "                    name = f\"{self.name}_conv_{ii}\"   \n",
    "                ),\n",
    "                keras.layers.BatchNormalization(\n",
    "                    name = f\"{self.name}_bn_{ii}\"\n",
    "                ),\n",
    "                keras.layers.ReLU(\n",
    "                    name = f\"{self.name}_relu_{ii}\"\n",
    "                )\n",
    "            ]\n",
    "            \n",
    "            \n",
    "            self.block_layers.extend(new_layers)\n",
    "        \n",
    "    def call(\n",
    "        self,\n",
    "        xx\n",
    "    ):\n",
    "        for layer in self.block_layers:\n",
    "            xx = layer(xx)\n",
    "        \n",
    "        return xx\n",
    "        \n"
   ]
  },
  {
   "cell_type": "code",
   "execution_count": 7,
   "metadata": {},
   "outputs": [
    {
     "data": {
      "text/plain": [
       "TensorShape([1, 10, 12, 128])"
      ]
     },
     "execution_count": 7,
     "metadata": {},
     "output_type": "execute_result"
    }
   ],
   "source": [
    "# Let's play around\n",
    "# E.g. D' = 10, H' = 20, W' = 24\n",
    "# TODO: Unsure if this is the right order\n",
    "inlayer = keras.Input(shape=(20, 24, 128), batch_size=1)\n",
    "conv = RPNConvBlock()\n",
    "conv(inlayer).shape"
   ]
  },
  {
   "cell_type": "code",
   "execution_count": 8,
   "metadata": {},
   "outputs": [
    {
     "name": "stdout",
     "output_type": "stream",
     "text": [
      "(1, 10, 12, 128)\n"
     ]
    }
   ],
   "source": [
    "# Test input\n",
    "random_input = tf.convert_to_tensor(\n",
    "    np.random.random(conv.input_shape).astype(np.float32)\n",
    ")\n",
    "some_output = conv(random_input)\n",
    "\n",
    "print(some_output.shape)\n"
   ]
  },
  {
   "cell_type": "code",
   "execution_count": 9,
   "metadata": {},
   "outputs": [
    {
     "data": {
      "image/png": "[encoded data removed]",
      "text/plain": [
       "<IPython.core.display.Image object>"
      ]
     },
     "execution_count": 9,
     "metadata": {},
     "output_type": "execute_result"
    }
   ],
   "source": [
    "# Instantiate a model and plot it\n",
    "model = keras.Model(inputs = inlayer, outputs = conv(inlayer))\n",
    "keras.utils.plot_model(model, show_shapes=True, expand_nested=True, rankdir='LR')"
   ]
  },
  {
   "cell_type": "markdown",
   "metadata": {},
   "source": [
    "## 3.2. Connecting them with Deconv blocks\n",
    "\n",
    "Deconv2D is also known as Conv2DTranspose. Keras defines the following:\n",
    "\n",
    "\n",
    "```\n",
    "tf.keras.layers.Conv2DTranspose(\n",
    "    filters,\n",
    "    kernel_size,\n",
    "    strides=(1, 1),\n",
    "    padding=\"valid\",\n",
    "    output_padding=None,\n",
    "    data_format=None,\n",
    "    dilation_rate=(1, 1)\n",
    ")\n",
    "```\n",
    "\n",
    "For block 1, 2, 3 respectively, the paper uses these:\n",
    "\n",
    "`                 flt, k, s, p`\n",
    "1. `Deconv2D(128, 256, 3, 1, 0)`\n",
    "2. `Deconv2D(128, 256, 2, 2, 0)`\n",
    "3. `Deconv2D(256, 256, 4, 4, 0)\n",
    "\n",
    "Fllowing the parameters in the paper, these should be `filters in, filters out, kernel size, strides, padding`, respectively.\n",
    "\n",
    "**This is simple enough to do, but I am low on RAM. Let me show you an example here with a very small input size.**"
   ]
  },
  {
   "cell_type": "code",
   "execution_count": 10,
   "metadata": {},
   "outputs": [],
   "source": [
    "# H = 8, W = 16. (todo: might be swapped.) Using 16 instead of 128\n",
    "input_shape = (8, 16, 32) #(200, 240, 128)\n",
    "\n",
    "inlayer = keras.Input(shape=input_shape, batch_size=1)\n",
    "\n",
    "# rpn conv blocks\n",
    "rpn_block_1 = RPNConvBlock(qq = 4, name = 'rpn_block_1')(inlayer)\n",
    "rpn_block_2 = RPNConvBlock(qq = 6, name = 'rpn_block_2')(rpn_block_1)\n",
    "rpn_block_3 = RPNConvBlock(qq = 6, name = 'rpn_block_3')(rpn_block_2)\n",
    "\n",
    "# deconv blocks\n",
    "rpn_deconv_1 = keras.layers.Conv2DTranspose(\n",
    "    filters = 256, kernel_size = 3, strides = 1, padding = 'same', name = 'rpn_deconv_1'\n",
    ")(rpn_block_1)\n",
    "rpn_deconv_2 = keras.layers.Conv2DTranspose(\n",
    "    filters = 256, kernel_size = 2, strides = 2, padding = 'same', name = 'rpn_deconv_2'\n",
    ")(rpn_block_2)\n",
    "rpn_deconv_3 = keras.layers.Conv2DTranspose(\n",
    "    filters = 256, kernel_size = 4, strides = 4, padding = 'same', name = 'rpn_deconv_3'\n",
    ")(rpn_block_3)\n",
    "\n"
   ]
  },
  {
   "cell_type": "markdown",
   "metadata": {},
   "source": [
    "## 3.3. Stack deconv layers, and output to learning targets\n",
    "\n",
    "After stacking the deconv layers to (again, see Fig 4), we then output two two different learning targets."
   ]
  },
  {
   "cell_type": "code",
   "execution_count": 11,
   "metadata": {},
   "outputs": [
    {
     "name": "stdout",
     "output_type": "stream",
     "text": [
      "(1, 4, 8, 256)\n",
      "(1, 4, 8, 256)\n",
      "(1, 4, 8, 256)\n",
      "(1, 4, 8, 768)\n"
     ]
    }
   ],
   "source": [
    "deconv_layers = [rpn_deconv_1, rpn_deconv_2, rpn_deconv_3]\n",
    "\n",
    "for deconv_layer in deconv_layers:\n",
    "    print(deconv_layer.shape)\n",
    "\n",
    "# concatenate the 3 deconv blocks\n",
    "rpn_penultimate = keras.layers.Concatenate(name = 'rpn_penultimate')(deconv_layers)\n",
    "\n",
    "print(rpn_penultimate.shape)"
   ]
  },
  {
   "cell_type": "code",
   "execution_count": 12,
   "metadata": {},
   "outputs": [],
   "source": [
    "# Two outputs\n",
    "\n",
    "probability_score_map = keras.layers.Convolution2D(\n",
    "    filters = 2,\n",
    "    kernel_size = 1,\n",
    "    name = \"RPN_prob_score_map\",\n",
    ")(rpn_penultimate)\n",
    "\n",
    "regression_map = keras.layers.Convolution2D(\n",
    "    filters = 14,\n",
    "    kernel_size = 1\n",
    ")(rpn_penultimate)"
   ]
  },
  {
   "cell_type": "markdown",
   "metadata": {},
   "source": [
    "## 3.4. Let's play around with this."
   ]
  },
  {
   "cell_type": "code",
   "execution_count": 13,
   "metadata": {},
   "outputs": [
    {
     "data": {
      "image/png": "[encoded data removed]",
      "text/plain": [
       "<IPython.core.display.Image object>"
      ]
     },
     "execution_count": 13,
     "metadata": {},
     "output_type": "execute_result"
    }
   ],
   "source": [
    "# Instantiate a model and plot it\n",
    "model = keras.Model(inputs = inlayer, outputs = [probability_score_map, regression_map])\n",
    "keras.utils.plot_model(model, show_shapes=True, expand_nested=True, rankdir='LR')\n",
    "\n",
    "# This is what we expect, even if it's very ugly."
   ]
  },
  {
   "cell_type": "markdown",
   "metadata": {},
   "source": [
    "---\n",
    "\n",
    "# 4. Loss function\n",
    "\n",
    "The paper defines loss in section 2.2. as follows:\n",
    "\n",
    "- Let $\\{a_i^{pos}\\}{_{i=1 ... N_{pos}}}$ be the set of $N_{pos}$ positive anchors.\n",
    "- Let $\\{a_i^{neg}\\}{_{i=1 ... N_{neg}}}$ be the set of $N_{neg}$ negative anchors.\n",
    "- Parameterize a 3D ground truth box as $(x_c^g, y_c^g, y_c^g, l^g, w^g, h^g, \\theta^g)$, where\n",
    "    - $x_c^g, y_c^g, y_c^g$ is the center location,\n",
    "    - $l^g, w^g, h^g$ are the bounding box extents,\n",
    "    - $\\theta^g$ is the yaw rotation around the Z axis.\n",
    "- Let residual $\\mathbf{u}^* \\in \\mathbb{R}^7 = (\\Delta x, \\Delta y, \\Delta z, \\Delta l, \\Delta w, \\Delta h, \\Delta \\theta)$\n",
    "\n",
    "These residuals are defined as:\n",
    "\n",
    "$$\n",
    "\\begin{align}\n",
    "\\Delta x & = \\frac{x^g_c - x^a_c}{d^a} \\\\\n",
    "\\Delta y & = \\frac{y^g_c - y^a_c}{d^a} \\\\\n",
    "\\Delta z & = \\frac{z^g_c - z^a_c}{h^a} \\\\\n",
    "\\Delta l & = \\log \\left( \\frac{l^g}{l^a} \\right )\\\\\n",
    "\\Delta w & = \\log \\left( \\frac{w^g}{w^a} \\right )\\\\\n",
    "\\Delta h & = \\log \\left( \\frac{h^g}{h^a} \\right )\\\\\n",
    "\\Delta \\theta & = \\theta^g - \\theta^a\n",
    "\\end{align}\n",
    "$$\n",
    "\n",
    "where $d^a = \\sqrt{\\left(l^a\\right)^2 + \\left(w^a\\right)}$ be the diagonal of the base of the anchor box.\n",
    "\n",
    "The loss is then defined as follows:\n",
    "\n",
    "$$\n",
    "\\begin{align}\n",
    "L & = \\alpha\\frac{1}{N_{pos}} L_{cls}\\left(p_i^{pos}, 1\\right) \\\\\n",
    "  & + \\beta\\frac{1}{N_{neg}} L_{cls}\\left(p_j^{neg}, 0\\right) \\\\\n",
    "  & + \\frac{1}{N_{pos}} L_{reg}(\\mathbf{u}_i, \\mathbf{u}^*_i)\n",
    "\\end{align}\n",
    "$$\n",
    "\n",
    "Here,\n",
    " - $\\alpha$ and $\\beta$ are positive constants balancing the relative importance.\n",
    "     - For car detection, we have $(\\alpha, \\beta) = (1.5, 1.0)$.\n",
    "     - For pedestrian detection, we have $(\\alpha, \\beta) = (1.5, 1.0)$.\n",
    " - $p_i^{pos}$ and $p_j^{neg}$ are the softmax output for the positive anchors $a_i^{pos}$ and $a_j^{neg}$\n",
    " - We have $\\mathbf{u}_i$ and $\\mathbf{u}^*_i$ as the regression output and ground truth for positive anchor $a_i^{pos}$\n",
    " - The first term is the normalized classification loss for $\\{a_i^{pos}\\}{_{i=1 ... N_{pos}}}$\n",
    " - The second term is the normalized classification loss for $\\{a_i^{neg}\\}{_{i=1 ... N_{neg}}}$\n",
    " - $L_{cls}$ is the binary cross entropy loss\n",
    " - $L_{reg}$ is regression loss, using the **SmoothL1** function."
   ]
  },
  {
   "cell_type": "markdown",
   "metadata": {},
   "source": [
    "---\n",
    "\n",
    "# 5. Training\n",
    "\n",
    "Training uses SGD, learing rate 0.01 for the first 150 epochs, decreased to 0.001 for the last 10 epochs. Batch size of 16."
   ]
  },
  {
   "cell_type": "code",
   "execution_count": null,
   "metadata": {},
   "outputs": [],
   "source": []
  }
 ],
 "metadata": {
  "kernelspec": {
   "display_name": "Python 3",
   "language": "python",
   "name": "python3"
  },
  "language_info": {
   "codemirror_mode": {
    "name": "ipython",
    "version": 3
   },
   "file_extension": ".py",
   "mimetype": "text/x-python",
   "name": "python",
   "nbconvert_exporter": "python",
   "pygments_lexer": "ipython3",
   "version": "3.7.5"
  }
 },
 "nbformat": 4,
 "nbformat_minor": 4
}
