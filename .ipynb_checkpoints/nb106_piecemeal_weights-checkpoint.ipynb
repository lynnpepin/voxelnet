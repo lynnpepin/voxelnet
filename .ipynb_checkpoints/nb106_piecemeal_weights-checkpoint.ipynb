{
 "cells": [
  {
   "cell_type": "markdown",
   "metadata": {},
   "source": [
    "# nb 106: Piecemeal weights\n",
    "\n",
    "The idea now is to find pre-existing weights and load them into this model, weight by weight, solving and identifying weight discrepancies along the way."
   ]
  },
  {
   "cell_type": "code",
   "execution_count": null,
   "metadata": {},
   "outputs": [],
   "source": [
    "import math\n",
    "import os\n",
    "import random\n",
    "import sys\n",
    "import struct\n",
    "import warnings\n",
    "\n",
    "import numpy as np\n",
    "import pandas as pd\n",
    "\n",
    "import tensorflow as tf\n",
    "from tensorflow import keras\n",
    "from tensorflow.keras import backend as K\n",
    "\n",
    "from library import pc, quantize, sample_points, augment_pc_with_offsets\n",
    "from library import VFE_FCN, ElementwiseMaxpool, PointwiseConcat, VFE, VFE_out\n",
    "from library import ConvMiddleLayer, RPNConvBlock\n",
    "\n",
    "from model import voxelnet"
   ]
  }
 ],
 "metadata": {
  "kernelspec": {
   "display_name": "Python 3",
   "language": "python",
   "name": "python3"
  },
  "language_info": {
   "codemirror_mode": {
    "name": "ipython",
    "version": 3
   },
   "file_extension": ".py",
   "mimetype": "text/x-python",
   "name": "python",
   "nbconvert_exporter": "python",
   "pygments_lexer": "ipython3",
   "version": "3.7.5"
  }
 },
 "nbformat": 4,
 "nbformat_minor": 4
}
